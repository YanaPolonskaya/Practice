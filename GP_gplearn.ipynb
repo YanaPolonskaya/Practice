{
 "cells": [
  {
   "cell_type": "markdown",
   "metadata": {},
   "source": [
    "# Symbolic Regressor"
   ]
  },
  {
   "cell_type": "code",
   "execution_count": 54,
   "metadata": {},
   "outputs": [
    {
     "name": "stdout",
     "output_type": "stream",
     "text": [
      "Populating the interactive namespace from numpy and matplotlib\n"
     ]
    }
   ],
   "source": [
    "%pylab inline\n",
    "from gplearn.genetic import SymbolicRegressor\n",
    "from sklearn.ensemble import RandomForestRegressor\n",
    "from sklearn.tree import DecisionTreeRegressor\n",
    "from sklearn.utils.random import check_random_state\n",
    "from mpl_toolkits.mplot3d import Axes3D\n",
    "import matplotlib.pyplot as plt\n",
    "import numpy as np\n",
    "import graphviz"
   ]
  },
  {
   "cell_type": "markdown",
   "metadata": {},
   "source": [
    "Отрисуем функцию которую мы собираемся восстанавливать"
   ]
  },
  {
   "cell_type": "code",
   "execution_count": null,
   "metadata": {},
   "outputs": [],
   "source": [
    "# Ground truth\n",
    "x0 = np.arange(-1, 1, .1)\n",
    "x1 = np.arange(-1, 1, .1)\n",
    "x0, x1 = np.meshgrid(x0, x1)\n",
    "y_truth = x0**2 - x1**2 + x1 - 1\n",
    "\n",
    "ax = plt.figure().gca(projection='3d')\n",
    "ax.set_xlim(-1, 1)\n",
    "ax.set_ylim(-1, 1)\n",
    "ax.set_xticks(np.arange(-1, 1.01, .5))\n",
    "ax.set_yticks(np.arange(-1, 1.01, .5))\n",
    "surf = ax.plot_surface(x0, x1, y_truth, rstride=1, cstride=1, color='green', alpha=0.5)\n",
    "plt.show()"
   ]
  },
  {
   "cell_type": "markdown",
   "metadata": {},
   "source": [
    "Генерируем обучающую и тестовую выборки"
   ]
  },
  {
   "cell_type": "code",
   "execution_count": 56,
   "metadata": {},
   "outputs": [],
   "source": [
    "def train_test_generation(func, limit = [-1,1], n_samples =100):\n",
    "    # Training samples\n",
    "    X_train = rng.uniform(limit[0], limit[1], n_samples*2).reshape(n_samples, 2)\n",
    "    y_train = func(X_train) \n",
    "\n",
    "    # Testing samples\n",
    "    X_test = rng.uniform(limit[0], limit[1], n_samples*2).reshape(n_samples, 2)\n",
    "    y_test = func(X_test) \n",
    "    \n",
    "    return X_train, y_train, X_test, y_test"
   ]
  },
  {
   "cell_type": "code",
   "execution_count": 57,
   "metadata": {},
   "outputs": [],
   "source": [
    "rng = check_random_state(0)\n",
    "\n",
    "def selected_function(X):\n",
    "    return X[:, 0]**2 - X[:, 1]**2 + X[:, 1] - 1\n",
    "\n",
    "X_train, y_train, X_test, y_test = train_test_generation(selected_function)"
   ]
  },
  {
   "cell_type": "markdown",
   "metadata": {},
   "source": [
    "**Запуск алгоритма генетического программирования**\n",
    "\n",
    "В алгоритме имеется несколько типов мутации и всего один кроссовер. Типами муьаций мы можем управлять посредствам вероятностей их применения, прямое отключение или включение какого-то из типов не предусмотрено.\n",
    "\n",
    "В качестве метртки по умолчанию задана \"Mean absolute error\", ее и оставим."
   ]
  },
  {
   "cell_type": "code",
   "execution_count": null,
   "metadata": {},
   "outputs": [],
   "source": [
    "est_gp = SymbolicRegressor(population_size=5000,\n",
    "                           generations=10, stopping_criteria=0.01,\n",
    "                           p_crossover=0.7, p_subtree_mutation=0.1,\n",
    "                           p_hoist_mutation=0.05, p_point_mutation=0.1,\n",
    "                           max_samples=0.9, verbose=1,\n",
    "                           parsimony_coefficient=0.01, random_state=0)\n",
    "est_gp.fit(X_train, y_train)"
   ]
  },
  {
   "cell_type": "markdown",
   "metadata": {},
   "source": [
    "**Посмотрим какая функция у нас получилась**"
   ]
  },
  {
   "cell_type": "code",
   "execution_count": null,
   "metadata": {},
   "outputs": [],
   "source": [
    "dot_data = est_gp._program.export_graphviz()\n",
    "graph = graphviz.Source(dot_data)\n",
    "graph.render('images/ex1_child', format='png', cleanup=True)\n",
    "graph"
   ]
  },
  {
   "cell_type": "markdown",
   "metadata": {},
   "source": [
    "**Ухудшим условия**"
   ]
  },
  {
   "cell_type": "markdown",
   "metadata": {},
   "source": [
    "В качестве функционального множества по умолчанию определено: function_set=('add', 'sub', 'mul', 'div')\n",
    "Поменяем его, оставим всего две функции, ипосмотрим хватит ли алгоритму чтобы что-то хорошее построить."
   ]
  },
  {
   "cell_type": "code",
   "execution_count": null,
   "metadata": {},
   "outputs": [],
   "source": [
    "est_gp_2 = SymbolicRegressor(population_size=5000,\n",
    "                           generations=10, stopping_criteria=0.01,\n",
    "                           p_crossover=0.7, p_subtree_mutation=0.1,\n",
    "                           p_hoist_mutation=0.05, p_point_mutation=0.1,\n",
    "                           max_samples=0.9, verbose=1,\n",
    "                           parsimony_coefficient=0.01, random_state=0,\n",
    "                           function_set=('add', 'sub'))\n",
    "est_gp_2.fit(X_train, y_train)"
   ]
  },
  {
   "cell_type": "code",
   "execution_count": null,
   "metadata": {},
   "outputs": [],
   "source": [
    "dot_data = est_gp_2._program.export_graphviz()\n",
    "graph = graphviz.Source(dot_data)\n",
    "graph.render('images/ex1_child', format='png', cleanup=True)\n",
    "graph"
   ]
  },
  {
   "cell_type": "markdown",
   "metadata": {},
   "source": [
    "Найденная функция оставляет желать лучшего! Чего и следовало ожидать, поскольку в моделируемой функции имеются операции умножения а мы дали алгоритму функциональное множество состоящее всего лишь из \"+\", и \"-\"."
   ]
  },
  {
   "cell_type": "markdown",
   "metadata": {},
   "source": [
    "**Сравнение эффективности генетического алгоритма с алгоритмами RandomForest и DecisionTree из sklearn**"
   ]
  },
  {
   "cell_type": "markdown",
   "metadata": {},
   "source": [
    "Инициализация алгоритмов с которыми будем сравнивать:"
   ]
  },
  {
   "cell_type": "code",
   "execution_count": 62,
   "metadata": {},
   "outputs": [],
   "source": [
    "est_tree = DecisionTreeRegressor()\n",
    "est_rf = RandomForestRegressor(n_estimators=10)"
   ]
  },
  {
   "cell_type": "markdown",
   "metadata": {},
   "source": [
    "Теперь обучим модели на той же обучающей выборке, что использовали для GP:"
   ]
  },
  {
   "cell_type": "code",
   "execution_count": 63,
   "metadata": {},
   "outputs": [
    {
     "data": {
      "text/plain": [
       "RandomForestRegressor(n_estimators=10)"
      ]
     },
     "execution_count": 63,
     "metadata": {},
     "output_type": "execute_result"
    }
   ],
   "source": [
    "est_tree.fit(X_train, y_train)\n",
    "est_rf.fit(X_train, y_train)"
   ]
  },
  {
   "cell_type": "code",
   "execution_count": 64,
   "metadata": {},
   "outputs": [],
   "source": [
    "def compare_graphs(results, limit=[-1,1], h_between_ticks=.5, label_position = [-.6, 1, -.6]):\n",
    "    position = label_position\n",
    "    fig = plt.figure(figsize=(12, 10))\n",
    "\n",
    "    for i, (y, score, title) in enumerate(results):\n",
    "\n",
    "        ax = fig.add_subplot(2, 2, i+1, projection='3d')\n",
    "        ax.set_xlim(limit[0], limit[1])\n",
    "        ax.set_ylim(limit[0], limit[1])\n",
    "        ax.set_xticks(np.arange(limit[0], limit[1]+0.01, h_between_ticks))\n",
    "        ax.set_yticks(np.arange(limit[0], limit[1]+0.01, h_between_ticks))\n",
    "        surf = ax.plot_surface(x0, x1, y, rstride=1, cstride=1, color='green', alpha=0.5)\n",
    "        points = ax.scatter(X_train[:, 0], X_train[:, 1], y_train)\n",
    "        if score is not None:\n",
    "            score = ax.text(position[0], position[1], position[2], \"$R^2 =\\/ %.6f$\" % score, 'x', fontsize=14)\n",
    "        plt.title(title)\n",
    "\n",
    "    plt.show()"
   ]
  },
  {
   "cell_type": "markdown",
   "metadata": {},
   "source": [
    "Сравним результаты:"
   ]
  },
  {
   "cell_type": "code",
   "execution_count": null,
   "metadata": {},
   "outputs": [],
   "source": [
    "y_gp = est_gp.predict(np.c_[x0.ravel(), x1.ravel()]).reshape(x0.shape)\n",
    "score_gp = est_gp.score(X_test, y_test)\n",
    "y_tree = est_tree.predict(np.c_[x0.ravel(), x1.ravel()]).reshape(x0.shape)\n",
    "score_tree = est_tree.score(X_test, y_test)\n",
    "y_rf = est_rf.predict(np.c_[x0.ravel(), x1.ravel()]).reshape(x0.shape)\n",
    "score_rf = est_rf.score(X_test, y_test)\n",
    "\n",
    "results = [(y_truth, None, \"Ground Truth\"),\n",
    "           (y_gp, score_gp, \"SymbolicRegressor\"),                            \n",
    "           (y_tree, score_tree, \"DecisionTreeRegressor\"),\n",
    "           (y_rf, score_rf, \"RandomForestRegressor\")]\n",
    "\n",
    "\n",
    "compare_graphs(results)"
   ]
  },
  {
   "cell_type": "markdown",
   "metadata": {},
   "source": [
    "Попробуем воостановить более сложную функцию "
   ]
  },
  {
   "cell_type": "code",
   "execution_count": 66,
   "metadata": {},
   "outputs": [
    {
     "data": {
      "image/png": "[encoded data removed]",
      "text/plain": [
       "<Figure size 432x288 with 1 Axes>"
      ]
     },
     "metadata": {
      "needs_background": "light"
     },
     "output_type": "display_data"
    }
   ],
   "source": [
    "# Ground truth\n",
    "limit = [-4, 4]\n",
    "x0 = np.arange(limit[0], limit[1], .1)\n",
    "x1 = np.arange(limit[0], limit[1], .1)\n",
    "x0, x1 = np.meshgrid(x0, x1)\n",
    "y_truth = 6*sin(x0)*cos(x1)\n",
    "\n",
    "ax = plt.figure().gca(projection='3d')\n",
    "ax.set_xlim(limit[0], limit[1])\n",
    "ax.set_ylim(limit[0], limit[1])\n",
    "ax.set_xticks(np.arange(limit[0], limit[1]+0.01, 2))\n",
    "ax.set_yticks(np.arange(limit[0], limit[1]+0.01, 2))\n",
    "surf = ax.plot_surface(x0, x1, y_truth, rstride=1, cstride=1, color='green', alpha=0.5)\n",
    "plt.show()"
   ]
  },
  {
   "cell_type": "code",
   "execution_count": 67,
   "metadata": {},
   "outputs": [],
   "source": [
    "rng = check_random_state(0)\n",
    "\n",
    "def selected_function(X):\n",
    "    return 6*sin(X[:, 0])*cos(X[:, 1])"
   ]
  },
  {
   "cell_type": "code",
   "execution_count": 68,
   "metadata": {},
   "outputs": [],
   "source": [
    "X_train, y_train, X_test, y_test = train_test_generation(selected_function, limit=limit, n_samples=500)"
   ]
  },
  {
   "cell_type": "markdown",
   "metadata": {},
   "source": [
    "Помимо этого добавим собственную функцию в функциональное множество в качестве примера:"
   ]
  },
  {
   "cell_type": "code",
   "execution_count": 69,
   "metadata": {},
   "outputs": [],
   "source": [
    "from gplearn.functions import make_function\n",
    "\n",
    "def pow_3(x1):\n",
    "    f = x1**3\n",
    "    return f\n",
    "\n",
    "pow_3 = make_function(function=pow_3,name='pow3',arity=1)"
   ]
  },
  {
   "cell_type": "markdown",
   "metadata": {},
   "source": [
    "Обновляем функциональное множество:"
   ]
  },
  {
   "cell_type": "code",
   "execution_count": 70,
   "metadata": {},
   "outputs": [],
   "source": [
    "function_set = ['add', 'sub', 'mul', 'div', 'sin', 'cos', pow_3]"
   ]
  },
  {
   "cell_type": "code",
   "execution_count": null,
   "metadata": {},
   "outputs": [],
   "source": [
    "est_gp = SymbolicRegressor(population_size=5000,\n",
    "                           generations=70, stopping_criteria=0.01,\n",
    "                           p_crossover=0.35, p_subtree_mutation=0.3,\n",
    "                           p_hoist_mutation=0.05, p_point_mutation=0.3,\n",
    "                           max_samples=0.9, verbose=1,\n",
    "                           parsimony_coefficient=0.01, random_state=0, function_set=function_set)\n",
    "est_gp.fit(X_train, y_train)"
   ]
  },
  {
   "cell_type": "markdown",
   "metadata": {},
   "source": [
    "Результирующее дерево:"
   ]
  },
  {
   "cell_type": "code",
   "execution_count": null,
   "metadata": {},
   "outputs": [],
   "source": [
    "dot_data = est_gp._program.export_graphviz()\n",
    "graph = graphviz.Source(dot_data)\n",
    "graph.render('images/ex1_child', format='png', cleanup=True)\n",
    "graph"
   ]
  },
  {
   "cell_type": "code",
   "execution_count": null,
   "metadata": {},
   "outputs": [],
   "source": [
    "est_tree.fit(X_train, y_train)\n",
    "est_rf.fit(X_train, y_train)\n",
    "y_gp = est_gp.predict(np.c_[x0.ravel(), x1.ravel()]).reshape(x0.shape)\n",
    "score_gp = est_gp.score(X_test, y_test)\n",
    "y_tree = est_tree.predict(np.c_[x0.ravel(), x1.ravel()]).reshape(x0.shape)\n",
    "score_tree = est_tree.score(X_test, y_test)\n",
    "y_rf = est_rf.predict(np.c_[x0.ravel(), x1.ravel()]).reshape(x0.shape)\n",
    "score_rf = est_rf.score(X_test, y_test)\n",
    "\n",
    "results = [(y_truth, None, \"Ground Truth\"),\n",
    "           (y_gp, score_gp, \"SymbolicRegressor\"),                            \n",
    "           (y_tree, score_tree, \"DecisionTreeRegressor\"),\n",
    "           (y_rf, score_rf, \"RandomForestRegressor\")]\n",
    "\n",
    "\n",
    "compare_graphs(results, limit =limit, label_position = (-.6, 1, 7), h_between_ticks=1)"
   ]
  },
  {
   "cell_type": "markdown",
   "metadata": {},
   "source": [
    "Попробуем ограничить функциональное множество"
   ]
  },
  {
   "cell_type": "code",
   "execution_count": 74,
   "metadata": {},
   "outputs": [],
   "source": [
    "function_set = ['add', 'sub', 'mul', 'tan']"
   ]
  },
  {
   "cell_type": "markdown",
   "metadata": {},
   "source": [
    "Заново запускаем алгоритм "
   ]
  },
  {
   "cell_type": "code",
   "execution_count": null,
   "metadata": {},
   "outputs": [],
   "source": [
    "est_gp = SymbolicRegressor(population_size=5000,\n",
    "                           generations=40, stopping_criteria=0.01,\n",
    "                           p_crossover=0.35, p_subtree_mutation=0.3,\n",
    "                           p_hoist_mutation=0.05, p_point_mutation=0.3,\n",
    "                           max_samples=0.9, verbose=1,\n",
    "                           parsimony_coefficient=0.01, random_state=0, function_set=function_set)\n",
    "est_gp.fit(X_train, y_train)"
   ]
  },
  {
   "cell_type": "code",
   "execution_count": null,
   "metadata": {},
   "outputs": [],
   "source": [
    "dot_data = est_gp._program.export_graphviz()\n",
    "graph = graphviz.Source(dot_data)\n",
    "graph.render('images/ex1_child', format='png', cleanup=True)\n",
    "graph"
   ]
  },
  {
   "cell_type": "markdown",
   "metadata": {},
   "source": [
    "# Symbolic Transformer"
   ]
  },
  {
   "cell_type": "code",
   "execution_count": 77,
   "metadata": {},
   "outputs": [],
   "source": [
    "from gplearn.genetic import SymbolicTransformer\n",
    "from sklearn.utils import check_random_state\n",
    "from sklearn.datasets import load_boston\n",
    "import numpy as np"
   ]
  },
  {
   "cell_type": "markdown",
   "metadata": {},
   "source": [
    "Подгружаем данные и перемешаем их"
   ]
  },
  {
   "cell_type": "code",
   "execution_count": 78,
   "metadata": {},
   "outputs": [],
   "source": [
    "rng = check_random_state(0)\n",
    "boston = load_boston()\n",
    "perm = rng.permutation(boston.target.size)\n",
    "boston.data = boston.data[perm]\n",
    "boston.target = boston.target[perm]"
   ]
  },
  {
   "cell_type": "markdown",
   "metadata": {},
   "source": [
    "Применим Ридж-Регрессию для этого примера: "
   ]
  },
  {
   "cell_type": "code",
   "execution_count": 79,
   "metadata": {},
   "outputs": [
    {
     "name": "stdout",
     "output_type": "stream",
     "text": [
      "Ridge score: 0.7593194530498838\n"
     ]
    }
   ],
   "source": [
    "from sklearn.linear_model import Ridge\n",
    "est = Ridge()\n",
    "est.fit(boston.data[:300, :], boston.target[:300])\n",
    "print(\"Ridge score:\", est.score(boston.data[300:, :], boston.target[300:]))"
   ]
  },
  {
   "cell_type": "markdown",
   "metadata": {},
   "source": [
    "Теперь применим алгоритм из gplearn добавив в функциональное множество побольше функций."
   ]
  },
  {
   "cell_type": "code",
   "execution_count": null,
   "metadata": {},
   "outputs": [],
   "source": [
    "function_set = ['add', 'sub', 'mul', 'div', 'sqrt', 'log',\n",
    "                'abs', 'neg', 'inv', 'max', 'min']\n",
    "gp = SymbolicTransformer(generations=20, population_size=2000,\n",
    "                         hall_of_fame=100, n_components=10,\n",
    "                         function_set=function_set,\n",
    "                         parsimony_coefficient=0.0005,\n",
    "                         max_samples=0.9, verbose=1,\n",
    "                         random_state=0)\n",
    "gp.fit(boston.data[:300, :], boston.target[:300])\n",
    "\n",
    "gp_features = gp.transform(boston.data)\n",
    "new_boston = np.hstack((boston.data, gp_features))\n",
    "\n",
    "est = Ridge()\n",
    "est.fit(new_boston[:300, :], boston.target[:300])\n",
    "print(\"GP score\", est.score(new_boston[300:, :], boston.target[300:]))"
   ]
  },
  {
   "cell_type": "markdown",
   "metadata": {},
   "source": [
    "# Symbolic Classifier\n",
    "Посмотреть самостоятельно:\n",
    "https://scikit-learn.org/stable/auto_examples/classification/plot_classifier_comparison.html"
   ]
  },
  {
   "cell_type": "code",
   "execution_count": null,
   "metadata": {},
   "outputs": [],
   "source": []
  }
 ],
 "metadata": {
  "kernelspec": {
   "display_name": "Python 3",
   "language": "python",
   "name": "python3"
  },
  "language_info": {
   "codemirror_mode": {
    "name": "ipython",
    "version": 3
   },
   "file_extension": ".py",
   "mimetype": "text/x-python",
   "name": "python",
   "nbconvert_exporter": "python",
   "pygments_lexer": "ipython3",
   "version": "3.7.9"
  }
 },
 "nbformat": 4,
 "nbformat_minor": 2
}
