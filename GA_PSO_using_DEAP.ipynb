{
 "cells": [
  {
   "cell_type": "markdown",
   "metadata": {},
   "source": [
    "# 1. Genetic Algorithm with DEAP #"
   ]
  },
  {
   "cell_type": "markdown",
   "metadata": {},
   "source": [
    "Подгружаем необходимые библиотеки"
   ]
  },
  {
   "cell_type": "code",
   "execution_count": 1,
   "metadata": {},
   "outputs": [],
   "source": [
    "from deap import tools, base\n",
    "from numpy import random as rnd\n",
    "import numpy as np\n",
    "from deap import creator\n",
    "from deap import benchmarks\n",
    "from deap.algorithms import eaMuPlusLambda\n",
    "from functools import partial\n",
    "#Для отрисовки функции\n",
    "from mpl_toolkits.mplot3d import Axes3D\n",
    "from matplotlib import cm\n",
    "import matplotlib.pyplot as plt\n",
    "%matplotlib inline"
   ]
  },
  {
   "cell_type": "markdown",
   "metadata": {},
   "source": [
    "## 1.1 Задача поиска экстремума сложной функции"
   ]
  },
  {
   "cell_type": "markdown",
   "metadata": {},
   "source": [
    "Creator - метафабрика классов позволяющая создавать классы, которые будут удовлетворять потребности ваших эволюционных алгоритмов. \n",
    "\n",
    "Note: weights=(-1.0,) - minimization, weights=(1.0,) - maximization"
   ]
  },
  {
   "cell_type": "code",
   "execution_count": 2,
   "metadata": {},
   "outputs": [],
   "source": [
    "creator.create(\"BaseFitness\", base.Fitness, weights=(-1.0,)) \n",
    "creator.create(\"Individual\", np.ndarray, fitness=creator.BaseFitness)"
   ]
  },
  {
   "cell_type": "markdown",
   "metadata": {},
   "source": [
    "Инициализируем целевую функцию "
   ]
  },
  {
   "cell_type": "code",
   "execution_count": 3,
   "metadata": {},
   "outputs": [],
   "source": [
    "optimization_function = benchmarks.rastrigin"
   ]
  },
  {
   "cell_type": "markdown",
   "metadata": {},
   "source": [
    "Нарисуем ее"
   ]
  },
  {
   "cell_type": "code",
   "execution_count": 4,
   "metadata": {},
   "outputs": [],
   "source": [
    "def function_drawing(func, limit):\n",
    "\n",
    "    def function_arg0(selected_function, sol):\n",
    "        return selected_function(sol)[0]\n",
    "\n",
    "    function_for_drawing = partial(function_arg0, func)\n",
    "\n",
    "    fig = plt.figure()\n",
    "    ax = Axes3D(fig, azim = -29, elev = 40)\n",
    "    X = np.arange(limit[0], limit[1], 0.5)\n",
    "    Y = np.arange(limit[0], limit[1], 0.5)\n",
    "    X, Y = np.meshgrid(X, Y)\n",
    "    Z = np.fromiter(map(function_for_drawing, zip(X.flat,Y.flat)), dtype=np.float, count=X.shape[0]*X.shape[1]).reshape(X.shape)\n",
    "\n",
    "    ax.plot_surface(X, Y, Z, rstride=1, cstride=1, cmap=cm.jet, linewidth=0.2)\n",
    "\n",
    "    plt.xlabel(\"x\")\n",
    "    plt.ylabel(\"y\")\n",
    "\n",
    "    plt.show()"
   ]
  },
  {
   "cell_type": "code",
   "execution_count": 5,
   "metadata": {},
   "outputs": [],
   "source": [
    "dimension = 3\n",
    "pop_size = 100\n",
    "iterations = 100\n",
    "mut_prob = 0.6\n",
    "cross_prob = 0.3\n",
    "limit = [-5, 5]"
   ]
  },
  {
   "cell_type": "code",
   "execution_count": null,
   "metadata": {},
   "outputs": [],
   "source": [
    "function_drawing(optimization_function, limit)"
   ]
  },
  {
   "cell_type": "markdown",
   "metadata": {},
   "source": [
    "Зададим параметры нашего жволюционного алгоритма\n",
    "* dimension - размерность задачи\n",
    "* pop_size - размер популяции\n",
    "* iterations - количество поколений \n",
    "* mut_prob - вероятность применения оператора мутации\n",
    "* cross_prob - вероятность применения оператора скрещивания к двум отобранным индивидам\n",
    "* limit - область поиска по каждой из переменых функции"
   ]
  },
  {
   "cell_type": "markdown",
   "metadata": {},
   "source": [
    "Функция для инициализации случайного числа из выбранной области определения:"
   ]
  },
  {
   "cell_type": "code",
   "execution_count": 7,
   "metadata": {},
   "outputs": [],
   "source": [
    "def factory(limit, dimension):\n",
    "    return limit[0] + rnd.random(dimension) * (limit[1]-limit[0])"
   ]
  },
  {
   "cell_type": "code",
   "execution_count": 8,
   "metadata": {},
   "outputs": [],
   "source": [
    "class DrawLog:\n",
    "    @staticmethod\n",
    "    def read_log(log):\n",
    "        avg_list, std_list, min_list, max_list, gen_list = [list() for i in range(5)]\n",
    "        for g in log:\n",
    "            avg_list.append(g['avg'])\n",
    "            std_list.append(g['std'])\n",
    "            min_list.append(g['min'])\n",
    "            max_list.append(g['max'])\n",
    "            gen_list.append(g['gen'])\n",
    "        return np.array(gen_list), np.array(avg_list), np.array(std_list), np.array(max_list), np.array(min_list)\n",
    "    \n",
    "    @staticmethod\n",
    "    def draw_log(log):\n",
    "        gen_list, avg_list, std_list, max_list, min_list = DrawLog.read_log(log)\n",
    "        plt.plot(gen_list, avg_list, label=\"avg\")\n",
    "        plt.plot(gen_list, min_list, label=\"min\")\n",
    "        plt.plot(gen_list, max_list, label=\"max\")\n",
    "        plt.fill_between(gen_list, avg_list-std_list, avg_list+std_list, alpha=0.2)\n",
    "        plt.ylabel('Fitness')\n",
    "        plt.xlabel('Generation, #')\n",
    "        plt.legend()\n",
    "        plt.tight_layout()\n",
    "        plt.show()\n",
    "        \n",
    "    @staticmethod\n",
    "    def draw_logs(log1, log2, lab1, lab2):\n",
    "        gen1, avg1, std1, max1, min1 = DrawLog.read_log(log1)\n",
    "        gen2, avg2, std2, max2, min2 = DrawLog.read_log(log2)\n",
    "        plt.plot(gen1, avg1, label=lab1, color=\"blue\")\n",
    "        plt.plot(gen1, max1, label=\"{}_max\".format(lab1), color=\"purple\", linewidth=2)\n",
    "        plt.fill_between(gen1, avg1 - std1, avg1 + std1, alpha=0.2, color=\"blue\")\n",
    "        plt.plot(gen2, avg2, label=lab2, color=\"orange\")\n",
    "        plt.plot(gen2, max2, label=\"{}_max\".format(lab2), color=\"red\", linewidth=2)\n",
    "        plt.fill_between(gen2, avg2 - std2, avg2 + std2, alpha=0.2, color=\"orange\")\n",
    "        plt.ylabel('Fitness')\n",
    "        plt.xlabel('Generation, #')\n",
    "        plt.legend()\n",
    "        plt.tight_layout()\n",
    "        plt.show()"
   ]
  },
  {
   "cell_type": "markdown",
   "metadata": {},
   "source": [
    "## Генетический алгоритм реализованный посредствам Deap\n",
    "\n",
    "Все основные объекты, которые мы будем использовать на нашем пути: индивид, популяция, а также все функции, операторы и аргументы будут храниться в контейнере DEAP с именем Toolbox. \n",
    "\n",
    "Он содержит два метода добавления и удаления содержимого register()и unregister().\n",
    "\n",
    "**В конструкторе класса GeneticAlgorithm** мы регистрируем две функции инициализации individual() и population(). \n",
    "\n",
    "Здесь, в inidividual:\n",
    "* tools.initIterate - инидивид наследуется от какого-то итеративного(iterable) объекта (например list).\n",
    "* creator.Individual - тип объекта который создается\n",
    "* ind_gener_func - функция при помощи которой инициализируется случайный объект\n",
    "\n",
    "В population:\n",
    "* tools.initRepeat - способ инициализации контейнера популяции\n",
    "* list - тип контейнера\n",
    "* toolbox.individual - какой функцией инициализируется объект-индивид\n",
    "* pop_size - сколько индивидов необходимо создать в популяции\n",
    "\n",
    "Ниже инициализируются эволюционные операторы.\n",
    "\n",
    "**В функции run_evolution** происходит создание популяции и определение обсервера – данных для мониторинга, далее происходит запуск эволюционного процесса."
   ]
  },
  {
   "cell_type": "code",
   "execution_count": 9,
   "metadata": {},
   "outputs": [],
   "source": [
    "class GeneticAlgorithm:\n",
    "    def __init__(self, factory, function,  pop_size=50, limit=limit, dimension=dimension,crossover=tools.cxOnePoint,\\\n",
    "                 mutation=partial(tools.mutGaussian, mu=0, sigma=0.5, indpb=0.2), \\\n",
    "                 selection = partial(tools.selTournament, tournsize=4)):\n",
    "        self.toolbox = base.Toolbox()\n",
    "        self.pop_size = pop_size\n",
    "        # Structure initializers\n",
    "        ind_gener_func = partial(factory, limit, dimension)\n",
    "        self.toolbox.register(\"individual\", tools.initIterate, creator.Individual, ind_gener_func)\n",
    "        self.toolbox.register(\"population\", tools.initRepeat, list, self.toolbox.individual, pop_size)\n",
    "        #genetic operators\n",
    "        self.toolbox.register(\"mate\", crossover) #crossover\n",
    "        self.toolbox.register(\"mutate\", mutation)\n",
    "        self.toolbox.register(\"select\", selection)\n",
    "        self.toolbox.register(\"evaluate\",function)\n",
    "    \n",
    "    def run_evolution(self, cross_prob, mut_prob, iterations, verbose = True):\n",
    "        pop = self.toolbox.population() #инициализация начальной популяции\n",
    "        hof = tools.HallOfFame(3, np.array_equal) #хранятся лучшие решения, архив\n",
    "        stats = tools.Statistics(lambda ind: ind.fitness.values[0])\n",
    "        stats.register(\"avg\", np.mean)\n",
    "        stats.register(\"std\", np.std)\n",
    "        stats.register(\"min\", np.min)\n",
    "        stats.register(\"max\", np.max)\n",
    "        pop, log = eaMuPlusLambda(pop, self.toolbox, mu=self.pop_size, lambda_=int(pop_size*0.8), cxpb=cross_prob, mutpb=mut_prob,\n",
    "                              ngen=iterations, stats=stats, halloffame=hof, verbose=True)\n",
    "        print(\"Best individual = {}\".format(hof[0]))\n",
    "        print(\"Best fitness = {}\".format(hof[0].fitness.values[0]))\n",
    "        if verbose:\n",
    "            DrawLog.draw_log(log)\n",
    "        return pop, log"
   ]
  },
  {
   "cell_type": "markdown",
   "metadata": {},
   "source": [
    "Инициализация генетического алгоритма"
   ]
  },
  {
   "cell_type": "code",
   "execution_count": 10,
   "metadata": {},
   "outputs": [],
   "source": [
    "ga = GeneticAlgorithm(factory, optimization_function, pop_size, limit, dimension)"
   ]
  },
  {
   "cell_type": "markdown",
   "metadata": {},
   "source": [
    "Запуск генетического алгоритма"
   ]
  },
  {
   "cell_type": "code",
   "execution_count": null,
   "metadata": {},
   "outputs": [],
   "source": [
    "population, log = ga.run_evolution(cross_prob, mut_prob, iterations)"
   ]
  },
  {
   "cell_type": "markdown",
   "metadata": {},
   "source": [
    "Протестируем наш алгоритм на другой функции."
   ]
  },
  {
   "cell_type": "code",
   "execution_count": null,
   "metadata": {},
   "outputs": [],
   "source": [
    "iterations = 200\n",
    "pop_size = 200\n",
    "mut_prob = 0.9\n",
    "cross_prob = 0.1\n",
    "optimization_function = benchmarks.griewank\n",
    "function_drawing(optimization_function, limit=[-50, 50])"
   ]
  },
  {
   "cell_type": "code",
   "execution_count": null,
   "metadata": {},
   "outputs": [],
   "source": [
    "ga = GeneticAlgorithm(factory, optimization_function, pop_size)\n",
    "population, log = ga.run_evolution(cross_prob, mut_prob, iterations)"
   ]
  },
  {
   "cell_type": "markdown",
   "metadata": {},
   "source": [
    "Увеличим область поиска"
   ]
  },
  {
   "cell_type": "code",
   "execution_count": null,
   "metadata": {},
   "outputs": [],
   "source": [
    "limit = [-100, 100]\n",
    "ga = GeneticAlgorithm(factory, optimization_function, pop_size)\n",
    "population, log = ga.run_evolution(cross_prob, mut_prob, iterations)"
   ]
  },
  {
   "cell_type": "markdown",
   "metadata": {},
   "source": [
    "При увеличении размерности задачи так же будет наблюдаться ухудшение качества поиска. Это означает то, что в данном случае требуется задать другие более подходящие гиперпараметры (в первую очередь увеличить размер популяции и количество поколений для поиска), что позволит получить хорошее решение в изменившихся условиях."
   ]
  },
  {
   "cell_type": "code",
   "execution_count": null,
   "metadata": {},
   "outputs": [],
   "source": [
    "limit = [-5, 5]\n",
    "dimension = 10\n",
    "iterations = 700\n",
    "pop_size = 700\n",
    "ga = GeneticAlgorithm(factory, optimization_function, pop_size, limit=limit, dimension=dimension)\n",
    "population, log = ga.run_evolution(cross_prob, mut_prob, iterations)"
   ]
  },
  {
   "cell_type": "markdown",
   "metadata": {},
   "source": [
    "Мы можем воспользоваться другими генетическими операторами из Deap. \n",
    "**Попробуем задать другую функцию скрещивания.**"
   ]
  },
  {
   "cell_type": "code",
   "execution_count": null,
   "metadata": {},
   "outputs": [],
   "source": [
    "#выберем двухточеченое скрещивание\n",
    "crossover = tools.cxTwoPoint\n",
    "ga = GeneticAlgorithm(factory, optimization_function, pop_size, crossover = crossover, dimension=dimension)\n",
    "population, log = ga.run_evolution(cross_prob, mut_prob, iterations)"
   ]
  },
  {
   "cell_type": "markdown",
   "metadata": {},
   "source": [
    "## Использование собственных генетических операторов.\n",
    "\n",
    "Реализация собственного оператора мутации"
   ]
  },
  {
   "cell_type": "code",
   "execution_count": 17,
   "metadata": {},
   "outputs": [],
   "source": [
    "def Mymutation(individual):\n",
    "    n = len(individual)\n",
    "    for i in range(n):\n",
    "        if rnd.random() < n * 0.15:\n",
    "            individual[i] += rnd.normal(0.0, 0.2)\n",
    "            individual[i] = np.clip(individual[i], -5, 5)\n",
    "    return individual,"
   ]
  },
  {
   "cell_type": "markdown",
   "metadata": {},
   "source": [
    "Передадим его в алгоритм в качестве параметра"
   ]
  },
  {
   "cell_type": "code",
   "execution_count": null,
   "metadata": {},
   "outputs": [],
   "source": [
    "iterations = 300\n",
    "pop_size = 300\n",
    "ga = GeneticAlgorithm(factory, optimization_function, pop_size, mutation = Mymutation, dimension=5)\n",
    "population, log = ga.run_evolution(cross_prob, mut_prob, iterations)"
   ]
  },
  {
   "cell_type": "markdown",
   "metadata": {},
   "source": [
    "Отлично! Перейдем к следующему разделу"
   ]
  },
  {
   "cell_type": "markdown",
   "metadata": {},
   "source": [
    "## 1.2 Задача о рюкзаке\n",
    "\n",
    "**Условие**: из заданного множества предметов со свойствами «стоимость» и «вес» требуется отобрать подмножество с максимальной полной стоимостью и минимальным весом (так же установлено ограничение на суммарный вес рюкзака)."
   ]
  },
  {
   "cell_type": "code",
   "execution_count": 19,
   "metadata": {},
   "outputs": [],
   "source": [
    "import random\n",
    "from deap import algorithms"
   ]
  },
  {
   "cell_type": "markdown",
   "metadata": {},
   "source": [
    "**Инициализация основных параметров/ограничений задачи**\n",
    "* ind_init_size - количество предметов с которым инициализируются индивиды начальной популяции\n",
    "* max_item - максимальное количество предметов в рюкзаке\n",
    "* max_weight - максимальный вес рюкзака\n",
    "* num_of_items - количество различных предметов"
   ]
  },
  {
   "cell_type": "code",
   "execution_count": 20,
   "metadata": {},
   "outputs": [],
   "source": [
    "ind_init_size = 5\n",
    "max_item = 50\n",
    "max_weight = 50\n",
    "num_of_items = 20"
   ]
  },
  {
   "cell_type": "code",
   "execution_count": 21,
   "metadata": {},
   "outputs": [],
   "source": [
    "creator.create(\"KnapsackFitness\", base.Fitness, weights=(-1.0, 1.0))\n",
    "creator.create(\"KnapsackIndividual\", set, fitness=creator.KnapsackFitness)"
   ]
  },
  {
   "cell_type": "markdown",
   "metadata": {},
   "source": [
    "Теперь у вас есть индивиды (которые по сути являются множествами из предметов). \n",
    "\n",
    "У каждого из них можно оценить fitness. \n",
    "\n",
    "В данном случае цель - это минимизация первой цели (веса мешка) и максимизация второй цели (ценность мешка). \n",
    "\n",
    "Мы имеем дело с *многокритериальной задачей комбинаторной оптимизации*.\n",
    "\n",
    "Теперь мы создадим словарь из 20 случайных предметов, которые и будем складывать в рюкзак:"
   ]
  },
  {
   "cell_type": "code",
   "execution_count": 22,
   "metadata": {},
   "outputs": [],
   "source": [
    "# Create the item dictionary: item name is an integer, and value is \n",
    "# a (weight, value) 2-uple.\n",
    "items = {}\n",
    "# Create random items and store them in the items' dictionary.\n",
    "for i in range(num_of_items):\n",
    "    items[i] = (random.randint(1, 10), random.uniform(0, 100))"
   ]
  },
  {
   "cell_type": "markdown",
   "metadata": {},
   "source": [
    "Определим **функцию оценки индивида**.\n",
    "\n",
    "Здесь рассчитывается суммарный вес и суммарная стоимость (не забываем, что у нас два objectiv-а)."
   ]
  },
  {
   "cell_type": "code",
   "execution_count": 23,
   "metadata": {},
   "outputs": [],
   "source": [
    "def evalKnapsack(individual):\n",
    "    weight = 0.0\n",
    "    value = 0.0\n",
    "    for item in individual:\n",
    "        weight += items[item][0]\n",
    "        value += items[item][1]\n",
    "    if len(individual) > max_item or weight > max_weight:\n",
    "        return 10000, 0             # Ensure overweighted bags are dominated\n",
    "    return weight, value"
   ]
  },
  {
   "cell_type": "markdown",
   "metadata": {},
   "source": [
    "В Deap нет операторов кроссовера и мутации, которые можно было бы применять непосредственно к наборам. Поэтому придется ввети свои."
   ]
  },
  {
   "cell_type": "markdown",
   "metadata": {},
   "source": [
    "**Функция скрещивания**\n",
    "\n",
    "Определим простой вариант скрещивания порождающий двух детей от двух родителей. И в нашем случае первый ребенок будет получаться пересечением двух множеств, а второй ребенок - их разницей.\n",
    "\n",
    "Однако для того чтобы не получались пустые индивиды, необходимо прописать некоторые дополнительные условия."
   ]
  },
  {
   "cell_type": "code",
   "execution_count": 24,
   "metadata": {},
   "outputs": [],
   "source": [
    "def cxSet(ind1, ind2):\n",
    "    \"\"\"Apply a crossover operation on input sets. The first child is the\n",
    "    intersection of the two sets, the second child is the difference of the\n",
    "    two sets.\n",
    "    \"\"\"\n",
    "    temp = set(ind1)                # Used in order to keep type\n",
    "    temp2 = set(ind2)\n",
    "    ind1 &= ind2                    # Intersection (inplace)\n",
    "    ind2 ^= temp                    # Symmetric Difference (inplace)x\n",
    "    if len(ind1) == 0:\n",
    "        ind1.add(temp.pop())\n",
    "    if len(ind2) == 0:\n",
    "        ind2.add(temp2.pop())\n",
    "    return ind1, ind2"
   ]
  },
  {
   "cell_type": "markdown",
   "metadata": {},
   "source": [
    "**Оператор мутации** будет случайным образом добавлять или удалять элемент из набора."
   ]
  },
  {
   "cell_type": "code",
   "execution_count": 25,
   "metadata": {},
   "outputs": [],
   "source": [
    "def mutSet(individual):\n",
    "    \"\"\"Mutation that pops or add an element.\"\"\"\n",
    "    if random.random() < 0.5:\n",
    "        if len(individual) > 1:     # We cannot pop from an empty set\n",
    "            individual.remove(random.choice(sorted(tuple(individual))))\n",
    "    else:\n",
    "        individual.add(random.randrange(num_of_items))\n",
    "    return individual,"
   ]
  },
  {
   "cell_type": "markdown",
   "metadata": {},
   "source": [
    "Затем мы регистрируем эти операторы в панели инструментов. \n",
    "\n",
    "Поскольку это **многокритериальная задача**, мы выбрали схему селекции **NSGA-II**: selNSGA2()"
   ]
  },
  {
   "cell_type": "code",
   "execution_count": 26,
   "metadata": {},
   "outputs": [],
   "source": [
    "class NSGA2():\n",
    "    def __init__(self, evaluation, crossover, mutation):\n",
    "        self.toolbox = base.Toolbox()\n",
    "        # Attribute generator\n",
    "        self.toolbox.register(\"attr_item\", random.randrange, num_of_items)\n",
    "        # Structure initializers\n",
    "        self.toolbox.register(\"individual\", tools.initRepeat, creator.KnapsackIndividual, self.toolbox.attr_item, ind_init_size)\n",
    "        self.toolbox.register(\"population\", tools.initRepeat, list, self.toolbox.individual)\n",
    "        self.toolbox.register(\"evaluate\", evaluation)\n",
    "        self.toolbox.register(\"mate\", cxSet)\n",
    "        self.toolbox.register(\"mutate\", mutSet)\n",
    "        self.toolbox.register(\"select\", tools.selNSGA2)\n",
    "    def run(self, generations = 50, mut_prob=0.3, cross_prob = 0.5, lamb=100, mu = 50):\n",
    "        random.seed(64)\n",
    "\n",
    "        pop = self.toolbox.population(n=mu)\n",
    "        hof = tools.ParetoFront()\n",
    "        stats = tools.Statistics(lambda ind: ind.fitness.values)\n",
    "        stats.register(\"avg\", np.mean, axis=0)\n",
    "        stats.register(\"std\", np.std, axis=0)\n",
    "        stats.register(\"min\", np.min, axis=0)\n",
    "        stats.register(\"max\", np.max, axis=0)\n",
    "\n",
    "        algorithms.eaMuPlusLambda(pop, self.toolbox, mu, lamb, cross_prob, mut_prob, generations, stats,\n",
    "                                  halloffame=hof)\n",
    "\n",
    "        return pop, stats, hof"
   ]
  },
  {
   "cell_type": "code",
   "execution_count": null,
   "metadata": {
    "scrolled": true
   },
   "outputs": [],
   "source": [
    "pop, stats, hof =NSGA2(evaluation = evalKnapsack, crossover = cxSet, mutation = mutSet).run()"
   ]
  },
  {
   "cell_type": "code",
   "execution_count": 28,
   "metadata": {},
   "outputs": [],
   "source": [
    "weights = []\n",
    "values = []\n",
    "for ind in hof:\n",
    "    w, val = evalKnapsack(ind) \n",
    "    weights.append(w)\n",
    "    values.append(val)"
   ]
  },
  {
   "cell_type": "markdown",
   "metadata": {},
   "source": [
    "Найденное множество Парето:"
   ]
  },
  {
   "cell_type": "code",
   "execution_count": null,
   "metadata": {},
   "outputs": [],
   "source": [
    "fig, ax = plt.subplots()\n",
    "\n",
    "ax.scatter(weights, values, c = 'red')  \n",
    "\n",
    "ax.set_title('Парето-фронт', fontsize = 15)  \n",
    "plt.ylabel('Стоимость', fontsize = 15)\n",
    "plt.xlabel('Вес', fontsize = 15)\n",
    "\n",
    "fig.set_figwidth(8)     \n",
    "fig.set_figheight(8)    \n",
    "\n",
    "plt.show()"
   ]
  },
  {
   "cell_type": "markdown",
   "metadata": {},
   "source": [
    "## 2. Метод роя частиц (PSO) реализованный посредствам Deap"
   ]
  },
  {
   "cell_type": "code",
   "execution_count": 30,
   "metadata": {},
   "outputs": [],
   "source": [
    "creator.create(\"FitnessMax\", base.Fitness, weights=(1.0,))\n",
    "creator.create(\"Particle\", np.ndarray, fitness=creator.BaseFitness, speed=None, smin=None, smax=None, best=None)"
   ]
  },
  {
   "cell_type": "markdown",
   "metadata": {},
   "source": [
    "* particle_generation - функция инициализации нового индивида\n",
    "\n",
    "На начальном этапе сам индивид случайным образом инициализируется со случайной скоростью.\n",
    "\n",
    "* updateParticle - служит для обновления скорости и позиции индивида"
   ]
  },
  {
   "cell_type": "code",
   "execution_count": 31,
   "metadata": {},
   "outputs": [],
   "source": [
    "class PSOAlgorithm:\n",
    "    \n",
    "    def generate(self):\n",
    "        return rnd.uniform(self.pmin, self.pmax, self.dimension)\n",
    "\n",
    "    def particle_generation(self):\n",
    "        particle = tools.initIterate(creator.Particle, self.generate)\n",
    "        particle.speed = rnd.uniform(self.smin, self.smax, self.dimension)\n",
    "        particle.smin = self.smin\n",
    "        particle.smax = self.smax\n",
    "        return particle\n",
    "\n",
    "    def updateParticle(self, part, global_best):\n",
    "        v1 = (part.best - part) * rnd.uniform(0, self.c1)\n",
    "        v2 = (global_best - part) * rnd.uniform(0, self.c2)\n",
    "        part.speed = np.clip(part.speed * self.w + v1 + v2, self.smin, self.smax)\n",
    "        part[:] = np.clip(part[:] + part.speed, self.pmin, self.pmax)\n",
    "\n",
    "    def __init__(self, pop_size, iterations, dimension, function):\n",
    "        self.pop_size = pop_size\n",
    "        self.iterations = iterations\n",
    "        self.dimension = dimension\n",
    "        self.function = function\n",
    "        self.c1 = 0.8\n",
    "        self.c2 = 0.7\n",
    "        self.w = 1.0\n",
    "        self.pmin = -5.0\n",
    "        self.pmax = 5.0\n",
    "        self.smin = -2.0\n",
    "        self.smax = 2.0\n",
    "\n",
    "        self.toolbox = base.Toolbox()\n",
    "        self.toolbox.register(\"particle\", self.particle_generation)\n",
    "        self.toolbox.register(\"population\", tools.initRepeat, list, self.toolbox.particle)\n",
    "        self.toolbox.register(\"update\", self.updateParticle)\n",
    "        self.toolbox.register(\"evaluate\", self.function)\n",
    "\n",
    "    def run(self, verbose = True):\n",
    "        pop = self.toolbox.population(n=self.pop_size)\n",
    "        stats = tools.Statistics(lambda ind: ind.fitness.values[0])\n",
    "        stats.register(\"avg\", np.mean)\n",
    "        stats.register(\"std\", np.std)\n",
    "        stats.register(\"min\", np.min)\n",
    "        stats.register(\"max\", np.max)\n",
    "\n",
    "        logbook = tools.Logbook()\n",
    "        logbook.header = [\"gen\", \"evals\"] + stats.fields\n",
    "\n",
    "        GEN = self.iterations\n",
    "        best = None\n",
    "\n",
    "        for g in range(GEN):\n",
    "            for part in pop:\n",
    "                part.fitness.values = self.toolbox.evaluate(part)\n",
    "                if part.best is None or part.best.fitness < part.fitness:\n",
    "                    part.best = creator.Particle(part)\n",
    "                    part.best.fitness.values = part.fitness.values\n",
    "                if best is None or best.fitness < part.fitness:\n",
    "                    best = creator.Particle(part)\n",
    "                    best.fitness.values = part.fitness.values\n",
    "            for part in pop:\n",
    "                self.toolbox.update(part, best)\n",
    "\n",
    "            # Gather all the fitnesses in one list and print the stats\n",
    "            logbook.record(gen=g, evals=len(pop), **stats.compile(pop))\n",
    "            print(logbook.stream)\n",
    "        if verbose:\n",
    "            DrawLog.draw_log(logbook)\n",
    "\n",
    "        return pop, logbook, best"
   ]
  },
  {
   "cell_type": "code",
   "execution_count": null,
   "metadata": {},
   "outputs": [],
   "source": [
    "pso_exp = PSOAlgorithm(pop_size, iterations, dimension, optimization_function)\n",
    "pop, logbook, best = pso_exp.run()\n",
    "print(\"best\")\n",
    "print(best)\n",
    "print(\"speed\")\n",
    "print(pop[0].speed)"
   ]
  },
  {
   "cell_type": "markdown",
   "metadata": {},
   "source": [
    "# 3. Сравнение эффективностей алгоритмов"
   ]
  },
  {
   "cell_type": "code",
   "execution_count": null,
   "metadata": {},
   "outputs": [],
   "source": [
    "dimension = 10\n",
    "pop_size = 100\n",
    "iterations = 500\n",
    "ga = GeneticAlgorithm(factory, optimization_function, pop_size, mutation = Mymutation, dimension=dimension)\n",
    "population, log = ga.run_evolution(cross_prob, mut_prob, iterations, verbose=False)\n",
    "\n",
    "pso = PSOAlgorithm(pop_size, iterations, dimension, optimization_function)\n",
    "pop, logbook, best = pso.run(verbose=False)\n",
    "DrawLog.draw_logs(log, logbook, \"ga\", \"pso\")"
   ]
  }
 ],
 "metadata": {
  "kernelspec": {
   "display_name": "Python 3",
   "language": "python",
   "name": "python3"
  },
  "language_info": {
   "codemirror_mode": {
    "name": "ipython",
    "version": 3
   },
   "file_extension": ".py",
   "mimetype": "text/x-python",
   "name": "python",
   "nbconvert_exporter": "python",
   "pygments_lexer": "ipython3",
   "version": "3.7.9"
  }
 },
 "nbformat": 4,
 "nbformat_minor": 2
}
