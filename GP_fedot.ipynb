{
 "cells": [
  {
   "cell_type": "code",
   "execution_count": 1,
   "metadata": {},
   "outputs": [],
   "source": [
    "import datetime\n",
    "import os\n",
    "import random\n",
    "import pandas as pd\n",
    "\n",
    "import numpy as np\n",
    "from sklearn.metrics import roc_auc_score as roc_auc\n",
    "from sklearn.utils import shuffle\n",
    "\n",
    "from fedot.core.composer.chain import Chain\n",
    "from fedot.core.composer.gp_composer.gp_composer import GPComposerRequirements, GPComposerBuilder\n",
    "from fedot.core.composer.optimisers.gp_optimiser import GPChainOptimiserParameters, GeneticSchemeTypesEnum\n",
    "from fedot.core.composer.visualisation import ComposerVisualiser\n",
    "from fedot.core.models.data import InputData, OutputData\n",
    "from fedot.core.repository.model_types_repository import ModelTypesRepository\n",
    "from fedot.core.repository.quality_metrics_repository import ClassificationMetricsEnum, MetricsRepository\n",
    "from fedot.core.repository.tasks import Task, TaskTypesEnum\n",
    "from fedot.core.utils import project_root"
   ]
  },
  {
   "cell_type": "code",
   "execution_count": 2,
   "metadata": {},
   "outputs": [],
   "source": [
    "dataset = pd.read_csv('ionosphere.csv', header = None )"
   ]
  },
  {
   "cell_type": "code",
   "execution_count": 3,
   "metadata": {},
   "outputs": [],
   "source": [
    "dataset  = shuffle(dataset )"
   ]
  },
  {
   "cell_type": "code",
   "execution_count": 4,
   "metadata": {},
   "outputs": [],
   "source": [
    "df_train = dataset[:280]\n",
    "df_test = dataset[280:]"
   ]
  },
  {
   "cell_type": "code",
   "execution_count": 5,
   "metadata": {},
   "outputs": [],
   "source": [
    "df_train.to_csv('train.csv', index=False)\n",
    "df_test.to_csv('test.csv', index=False)"
   ]
  },
  {
   "cell_type": "markdown",
   "metadata": {},
   "source": [
    "Импортируем данные."
   ]
  },
  {
   "cell_type": "code",
   "execution_count": 6,
   "metadata": {},
   "outputs": [],
   "source": [
    "train_file_path = 'train.csv'\n",
    "test_file_path = 'test.csv'"
   ]
  },
  {
   "cell_type": "code",
   "execution_count": 7,
   "metadata": {},
   "outputs": [],
   "source": [
    "#file_path_train = 'scoring_train.csv'\n",
    "#file_path_test = 'scoring_test.csv'"
   ]
  },
  {
   "cell_type": "markdown",
   "metadata": {},
   "source": [
    "Очень важно задать ограничение по времени. \n",
    "Оно задается с использлванием страндартной библиотеки datetime."
   ]
  },
  {
   "cell_type": "code",
   "execution_count": 8,
   "metadata": {},
   "outputs": [],
   "source": [
    " max_lead_time: datetime.timedelta = datetime.timedelta(minutes=5)"
   ]
  },
  {
   "cell_type": "markdown",
   "metadata": {},
   "source": [
    "Выбор задачи, в нашем случае это задача классификации."
   ]
  },
  {
   "cell_type": "code",
   "execution_count": 9,
   "metadata": {},
   "outputs": [],
   "source": [
    "task = Task(TaskTypesEnum.classification)"
   ]
  },
  {
   "cell_type": "markdown",
   "metadata": {},
   "source": [
    "Преобразуем данные в такой вид, с которым фреймворку будет удобно и корректно работать."
   ]
  },
  {
   "cell_type": "code",
   "execution_count": 10,
   "metadata": {},
   "outputs": [],
   "source": [
    "dataset_to_compose = InputData.from_csv(train_file_path, task=task)\n",
    "dataset_to_validate = InputData.from_csv(test_file_path, task=task)"
   ]
  },
  {
   "cell_type": "markdown",
   "metadata": {},
   "source": [
    "Импорт моделей из репозитория.\n",
    "В данном случае возьмем для составления цепочек используем возможные модели предназначенные для классификации."
   ]
  },
  {
   "cell_type": "code",
   "execution_count": 11,
   "metadata": {},
   "outputs": [],
   "source": [
    " available_model_types, _ = ModelTypesRepository().suitable_model(task_type=task.task_type)"
   ]
  },
  {
   "cell_type": "markdown",
   "metadata": {},
   "source": [
    "Определение метрики для оценки качества моделей."
   ]
  },
  {
   "cell_type": "code",
   "execution_count": 12,
   "metadata": {},
   "outputs": [],
   "source": [
    "metric_function = MetricsRepository().metric_by_id(ClassificationMetricsEnum.ROCAUC)"
   ]
  },
  {
   "cell_type": "markdown",
   "metadata": {},
   "source": [
    "Определение ресурсов для композера."
   ]
  },
  {
   "cell_type": "code",
   "execution_count": 13,
   "metadata": {},
   "outputs": [],
   "source": [
    "composer_requirements = GPComposerRequirements(\n",
    "        primary=available_model_types,\n",
    "        secondary=available_model_types, max_arity=3,\n",
    "        max_depth=3, pop_size=10, num_of_generations=10,\n",
    "        crossover_prob=0.8, mutation_prob=0.8, max_lead_time=max_lead_time, add_single_model_chains= False)"
   ]
  },
  {
   "cell_type": "markdown",
   "metadata": {},
   "source": [
    "Выбор параметров оптимизатора. \n",
    "\n",
    "Здесь в основном задаются типы операторов которые будут использльзоваться в алгоритме оптимизации: схема эволюции, тип селекции, скрещивания, мутации, регуляризации и т. д.)\n",
    "\n",
    "Мы задаем нужную эволюционную схему, остальные же параметры оставляем по умолчанию."
   ]
  },
  {
   "cell_type": "code",
   "execution_count": 14,
   "metadata": {},
   "outputs": [],
   "source": [
    "scheme_type = GeneticSchemeTypesEnum.steady_state\n",
    "optimiser_parameters = GPChainOptimiserParameters(genetic_scheme_type=scheme_type)"
   ]
  },
  {
   "cell_type": "markdown",
   "metadata": {},
   "source": [
    "Создание билдера, который конструирует композер учитывая все параметры, которые мы задали.\n",
    "Обратите внимание, в билдер параметры передаются с использование функции with_parameter(parameter_type)."
   ]
  },
  {
   "cell_type": "code",
   "execution_count": 15,
   "metadata": {},
   "outputs": [],
   "source": [
    "builder = GPComposerBuilder(task=task).with_requirements(composer_requirements).with_metrics(\n",
    "        metric_function).with_optimiser_parameters(optimiser_parameters)\n",
    "\n",
    "composer = builder.build()"
   ]
  },
  {
   "cell_type": "markdown",
   "metadata": {},
   "source": [
    "Запуск алгоритма копозирования который мы составили путем выбора и передачи всех желаемых параметров."
   ]
  },
  {
   "cell_type": "code",
   "execution_count": null,
   "metadata": {},
   "outputs": [],
   "source": [
    "chain_evo_composed = composer.compose_chain(data=dataset_to_compose,\n",
    "                                            is_visualise=False)"
   ]
  },
  {
   "cell_type": "code",
   "execution_count": 17,
   "metadata": {},
   "outputs": [],
   "source": [
    "def calculate_validation_metric(chain: Chain, dataset_to_validate: InputData) -> float:\n",
    "    # the execution of the obtained composite models\n",
    "    predicted = chain.predict(dataset_to_validate)\n",
    "    # the quality assessment for the simulation results\n",
    "    roc_auc_value = roc_auc(y_true=dataset_to_validate.target,\n",
    "                            y_score=predicted.predict)\n",
    "    return roc_auc_value"
   ]
  },
  {
   "cell_type": "code",
   "execution_count": null,
   "metadata": {},
   "outputs": [],
   "source": [
    "chain_evo_composed.fit(input_data=dataset_to_compose, verbose=True)\n",
    "\n",
    "\n",
    "ComposerVisualiser.visualise(chain_evo_composed)\n",
    "\n",
    "# the quality assessment for the obtained composite models\n",
    "roc_on_valid_evo_composed = calculate_validation_metric(chain_evo_composed,\n",
    "                                                        dataset_to_validate)\n",
    "\n",
    "print(f'Composed ROC AUC is {round(roc_on_valid_evo_composed, 3)}')"
   ]
  },
  {
   "cell_type": "code",
   "execution_count": null,
   "metadata": {},
   "outputs": [],
   "source": []
  }
 ],
 "metadata": {
  "kernelspec": {
   "display_name": "Python 3",
   "language": "python",
   "name": "python3"
  },
  "language_info": {
   "codemirror_mode": {
    "name": "ipython",
    "version": 3
   },
   "file_extension": ".py",
   "mimetype": "text/x-python",
   "name": "python",
   "nbconvert_exporter": "python",
   "pygments_lexer": "ipython3",
   "version": "3.7.9"
  }
 },
 "nbformat": 4,
 "nbformat_minor": 4
}
